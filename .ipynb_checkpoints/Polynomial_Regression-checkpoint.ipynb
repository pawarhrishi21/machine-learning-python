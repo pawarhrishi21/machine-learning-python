{
 "cells": [
  {
   "cell_type": "markdown",
   "metadata": {
    "id": "qwRHieXAtxxw"
   },
   "source": [
    "Polynomial Regression\n",
    "\n",
    "Example used here is to fit Y = sin (w*X) with a Polynomial of degree 3 [where  w is a constant]\n",
    "\n",
    "\n",
    "\n",
    "\n"
   ]
  },
  {
   "cell_type": "code",
   "execution_count": 2,
   "metadata": {
    "id": "kqGLdRVft35f"
   },
   "outputs": [],
   "source": [
    "import numpy as np\n",
    "import matplotlib.pyplot as plt\n",
    "import math\n",
    "import random"
   ]
  },
  {
   "cell_type": "code",
   "execution_count": 3,
   "metadata": {
    "id": "j7UXiIrft38B"
   },
   "outputs": [],
   "source": [
    "# n = number of features (not including bias feature) (here - degree of polynomial)\n",
    "# m = number of training data points\n",
    "\n",
    "w = math.sqrt(12.0/41.0)\n",
    "\n",
    "#random data generation\n",
    "X = []\n",
    "Y = []\n",
    "X.append(np.array(np.random.uniform(low=0, high=40, size=(25,))))\n",
    "for i in X[0]:\n",
    "  Y.append(random.uniform(0.95,1.05) * math.sin(w*i))\n",
    "\n",
    "# polynomial degree\n",
    "n = 3\n",
    "\n",
    "for i in range(2, n + 1):\n",
    "  X.append(X[0]**i)\n",
    "\n",
    "iterations = 50000 # No of iterations in Gradient Descent\n",
    "alpha = 0.000000001 # learning rate"
   ]
  },
  {
   "cell_type": "code",
   "execution_count": 4,
   "metadata": {
    "id": "UOvOwB5qt3-7"
   },
   "outputs": [],
   "source": [
    "m = len(Y)\n",
    "theta = [1.0]*(n+1) # Random initialization of weights of features, theta[0] denotes weight of bias feature"
   ]
  },
  {
   "cell_type": "code",
   "execution_count": 5,
   "metadata": {
    "colab": {
     "base_uri": "https://localhost:8080/",
     "height": 282
    },
    "id": "KpDbXvLgBWWy",
    "outputId": "1b7d7687-8e6d-4905-ffef-bb41939f8d30"
   },
   "outputs": [
    {
     "data": {
      "text/plain": [
       "<matplotlib.collections.PathCollection at 0x570d1a8>"
      ]
     },
     "execution_count": 5,
     "metadata": {},
     "output_type": "execute_result"
    },
    {
     "data": {
      "image/png": "[encoded data removed]",
      "text/plain": [
       "<Figure size 432x288 with 1 Axes>"
      ]
     },
     "metadata": {
      "needs_background": "light"
     },
     "output_type": "display_data"
    }
   ],
   "source": [
    "# Training Data Points\n",
    "plt.scatter(X[0],Y)"
   ]
  },
  {
   "cell_type": "code",
   "execution_count": 11,
   "metadata": {
    "colab": {
     "base_uri": "https://localhost:8080/",
     "height": 84
    },
    "id": "uzkri4pVBWZ5",
    "outputId": "548abdf1-41a3-4f76-c0f2-ebc50639f1e9",
    "scrolled": true
   },
   "outputs": [
    {
     "name": "stdout",
     "output_type": "stream",
     "text": [
      "Feature  0  Weight =  0.9851954443874231\n",
      "Feature  1  Weight =  0.864227221820492\n",
      "Feature  2  Weight =  -0.0726176219512937\n",
      "Feature  3  Weight =  0.0013554521976480627\n"
     ]
    }
   ],
   "source": [
    "# Gradient Descent to optimize weights to fit the given training data with the polynomial\n",
    "\n",
    "for i in range(0, iterations):\n",
    "  h = [theta[0]] * m\n",
    "  for j in range (0,n):\n",
    "    h += X[j]*theta[j+1]\n",
    "  theta[0] -= alpha*np.mean(h-Y)\n",
    "  for j in range (0,n):\n",
    "    theta[j+1] -= alpha*np.mean((h-Y)*X[j])\n",
    "\n",
    "#  print(theta)\n",
    "\n",
    "for i in range (0,n+1):\n",
    "  print(\"Feature \",i,\" Weight = \",theta[i])"
   ]
  },
  {
   "cell_type": "code",
   "execution_count": 12,
   "metadata": {
    "colab": {
     "base_uri": "https://localhost:8080/",
     "height": 362
    },
    "id": "R-aXdj3WBWc1",
    "outputId": "f4b0e82e-5443-47b3-e4eb-4c77e768352a"
   },
   "outputs": [
    {
     "name": "stdout",
     "output_type": "stream",
     "text": [
      "Feature  0  Weight =  0.9851954443874231\n",
      "Feature  1  Weight =  0.864227221820492\n",
      "Feature  2  Weight =  -0.0726176219512937\n",
      "Feature  3  Weight =  0.0013554521976480627\n"
     ]
    },
    {
     "data": {
      "image/png": "[encoded data removed]",
      "text/plain": [
       "<Figure size 432x288 with 1 Axes>"
      ]
     },
     "metadata": {
      "needs_background": "light"
     },
     "output_type": "display_data"
    }
   ],
   "source": [
    "# Plotting both actual function and Polynomial Regression Function\n",
    "x = np.arange(0, 50, 0.1) \n",
    "\n",
    "# Actual function\n",
    "y = 1.0 * np.sin(w*x)\n",
    "plt.plot(x,y,color='green')\n",
    "\n",
    "# Regression function\n",
    "y = [theta[0]]*(len(x))\n",
    "\n",
    "for i in range(1,n+1):\n",
    "  y += theta[i]*(x**i)\n",
    "\n",
    "plt.plot(x,y,color='red')\n",
    "plt.xlabel('X')\n",
    "plt.ylabel('Y')\n",
    "plt.title('Red denotes the regression polynomial')\n",
    "# Training Data Points\n",
    "plt.scatter(X[0],Y)\n",
    "plt.ylim(-5,5)\n",
    "for i in range (0,n+1):\n",
    "  print(\"Feature \",i,\" Weight = \",theta[i])"
   ]
  }
 ],
 "metadata": {
  "colab": {
   "collapsed_sections": [],
   "name": "Polynomial_Regression.ipynb",
   "provenance": []
  },
  "kernelspec": {
   "display_name": "Python 3",
   "language": "python",
   "name": "python3"
  },
  "language_info": {
   "codemirror_mode": {
    "name": "ipython",
    "version": 3
   },
   "file_extension": ".py",
   "mimetype": "text/x-python",
   "name": "python",
   "nbconvert_exporter": "python",
   "pygments_lexer": "ipython3",
   "version": "3.8.5"
  }
 },
 "nbformat": 4,
 "nbformat_minor": 1
}
