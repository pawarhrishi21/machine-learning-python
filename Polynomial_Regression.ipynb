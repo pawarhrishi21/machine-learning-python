{
  "nbformat": 4,
  "nbformat_minor": 0,
  "metadata": {
    "colab": {
      "name": "Polynomial_Regression.ipynb",
      "provenance": [],
      "collapsed_sections": [],
      "include_colab_link": true
    },
    "kernelspec": {
      "name": "python3",
      "display_name": "Python 3"
    }
  },
  "cells": [
    {
      "cell_type": "markdown",
      "metadata": {
        "id": "view-in-github",
        "colab_type": "text"
      },
      "source": [
        "<a href=\"https://colab.research.google.com/github/pawarhrishi21/machine-learning-python/blob/main/Polynomial_Regression.ipynb\" target=\"_parent\"><img src=\"https://colab.research.google.com/assets/colab-badge.svg\" alt=\"Open In Colab\"/></a>"
      ]
    },
    {
      "cell_type": "markdown",
      "metadata": {
        "id": "qwRHieXAtxxw"
      },
      "source": [
        "Polynomial Regression\n",
        "\n",
        "Example used here is to fit Y = sin (w*X) with a Polynomial of degree 3 [where  w is a constant]\n",
        "\n",
        "\n",
        "\n",
        "\n"
      ]
    },
    {
      "cell_type": "code",
      "metadata": {
        "id": "kqGLdRVft35f"
      },
      "source": [
        "import numpy as np\n",
        "import matplotlib.pyplot as plt\n",
        "import sympy as sp\n",
        "import math\n",
        "import random"
      ],
      "execution_count": null,
      "outputs": []
    },
    {
      "cell_type": "code",
      "metadata": {
        "id": "j7UXiIrft38B"
      },
      "source": [
        "# n = number of features (not including bias feature) (here - degree of polynomial)\n",
        "# m = number of training data points\n",
        "K = 12.0\n",
        "M = 41.0\n",
        "w = math.sqrt(K/M)\n",
        "\n",
        "#random data generation\n",
        "X = []\n",
        "Y = []\n",
        "X.append(np.array(np.random.uniform(low=0, high=40, size=(25,))))\n",
        "for i in X[0]:\n",
        "  Y.append(random.uniform(0.95,1.05) * math.sin(w*i))\n",
        "\n",
        "# polynomial degree\n",
        "n = 3\n",
        "\n",
        "for i in range(2, n + 1):\n",
        "  X.append(X[0]**i)\n",
        "\n",
        "iterations = 50\n",
        "alpha = 0.000000001 # learning rate"
      ],
      "execution_count": null,
      "outputs": []
    },
    {
      "cell_type": "code",
      "metadata": {
        "id": "UOvOwB5qt3-7"
      },
      "source": [
        "m = len(Y)\n",
        "theta = [1.0]*(n+1) # Random initialization of weights of features, theta[0] denotes weight of bias feature"
      ],
      "execution_count": null,
      "outputs": []
    },
    {
      "cell_type": "code",
      "metadata": {
        "id": "KpDbXvLgBWWy",
        "outputId": "34900588-4131-49a7-bbc8-ff7ed6024049",
        "colab": {
          "base_uri": "https://localhost:8080/",
          "height": 282
        }
      },
      "source": [
        "# Training Data Points\n",
        "plt.scatter(X[0],Y)"
      ],
      "execution_count": null,
      "outputs": [
        {
          "output_type": "execute_result",
          "data": {
            "text/plain": [
              "<matplotlib.collections.PathCollection at 0x7feee0e40550>"
            ]
          },
          "metadata": {
            "tags": []
          },
          "execution_count": 4
        },
        {
          "output_type": "display_data",
          "data": {
            "image/png": "[encoded data removed]",
            "text/plain": [
              "<Figure size 432x288 with 1 Axes>"
            ]
          },
          "metadata": {
            "tags": [],
            "needs_background": "light"
          }
        }
      ]
    },
    {
      "cell_type": "code",
      "metadata": {
        "id": "uzkri4pVBWZ5",
        "outputId": "c0dfe3c1-5835-4335-9ac3-c721ebc633b5",
        "colab": {
          "base_uri": "https://localhost:8080/",
          "height": 84
        }
      },
      "source": [
        "# Gradient Descent to optimize weights to fit the given data linearly\n",
        "\n",
        "for i in range(0, iterations*50000):\n",
        "  h = [theta[0]] * m\n",
        "  for j in range (0,n):\n",
        "    h += X[j]*theta[j+1]\n",
        "  theta[0] -= alpha*np.mean(h-Y)\n",
        "  for j in range (0,n):\n",
        "    theta[j+1] -= alpha*np.mean((h-Y)*X[j])\n",
        "\n",
        "#  print(theta)\n",
        "\n",
        "for i in range (0,n+1):\n",
        "  print(\"Feature \",i,\" Weight = \",theta[i])"
      ],
      "execution_count": null,
      "outputs": [
        {
          "output_type": "stream",
          "text": [
            "Feature  0  Weight =  0.9883204481258633\n",
            "Feature  1  Weight =  0.879242180489335\n",
            "Feature  2  Weight =  -0.07209094426474087\n",
            "Feature  3  Weight =  0.0013094860653918524\n"
          ],
          "name": "stdout"
        }
      ]
    },
    {
      "cell_type": "code",
      "metadata": {
        "id": "R-aXdj3WBWc1",
        "outputId": "f090e6dc-6137-4339-ae62-58a01bc8becd",
        "colab": {
          "base_uri": "https://localhost:8080/",
          "height": 332
        }
      },
      "source": [
        "# Plotting both actual function and Polynomial Regression Function\n",
        "x = np.arange(0, 50, 0.1) \n",
        "\n",
        "# Actual function\n",
        "y = 1.0 * np.sin(w*x)\n",
        "plt.plot(x,y,color='green')\n",
        "\n",
        "# Regression function\n",
        "y = [theta[0]]*(len(x))\n",
        "\n",
        "for i in range(1,n+1):\n",
        "  y += theta[i]*(x**i)\n",
        "\n",
        "plt.plot(x,y,color='red')\n",
        "\n",
        "# Training Data Points\n",
        "plt.scatter(X[0],Y)\n",
        "\n",
        "for i in range (0,n+1):\n",
        "  print(\"Feature \",i,\" Weight = \",theta[i])"
      ],
      "execution_count": null,
      "outputs": [
        {
          "output_type": "stream",
          "text": [
            "Feature  0  Weight =  0.9883204481258633\n",
            "Feature  1  Weight =  0.879242180489335\n",
            "Feature  2  Weight =  -0.07209094426474087\n",
            "Feature  3  Weight =  0.0013094860653918524\n"
          ],
          "name": "stdout"
        },
        {
          "output_type": "display_data",
          "data": {
            "image/png": "[encoded data removed]",
            "text/plain": [
              "<Figure size 432x288 with 1 Axes>"
            ]
          },
          "metadata": {
            "tags": [],
            "needs_background": "light"
          }
        }
      ]
    }
  ]
}