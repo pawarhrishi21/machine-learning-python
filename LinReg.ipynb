{
  "nbformat": 4,
  "nbformat_minor": 0,
  "metadata": {
    "colab": {
      "name": "LinReg.ipynb",
      "provenance": [],
      "collapsed_sections": []
    },
    "kernelspec": {
      "name": "python3",
      "display_name": "Python 3"
    }
  },
  "cells": [
    {
      "cell_type": "markdown",
      "metadata": {
        "id": "qwRHieXAtxxw"
      },
      "source": [
        "Linear Regression from scratch\n"
      ]
    },
    {
      "cell_type": "code",
      "metadata": {
        "id": "kqGLdRVft35f"
      },
      "source": [
        "import numpy as np\n",
        "import matplotlib.pyplot as plt\n",
        "import sympy as sp\n",
        "import math\n",
        "import random"
      ],
      "execution_count": 1,
      "outputs": []
    },
    {
      "cell_type": "code",
      "metadata": {
        "id": "j7UXiIrft38B"
      },
      "source": [
        "# n = number of features (not including bias feature)\n",
        "# m = number of training data points\n",
        "\n",
        "X = np.array([np.array([4.51,3.58,4.31,5.06,5.64,4.99,5.29,5.83,4.70,5.61,4.90,4.20])]) # nD array where each row has m values denoting value for mth data point where n = number of features\n",
        "Y = np.array([2.48,2.26,2.47,2.77,2.99,3.05,3.18,3.46,3.03,3.26,2.67,2.53])\n",
        "iterations = 50\n",
        "alpha = 0.01 # learning rate"
      ],
      "execution_count": 2,
      "outputs": []
    },
    {
      "cell_type": "code",
      "metadata": {
        "id": "UOvOwB5qt3-7",
        "outputId": "ddd217ac-6951-4a34-b507-f5aadbabb432",
        "colab": {
          "base_uri": "https://localhost:8080/",
          "height": 34
        }
      },
      "source": [
        "m = len(Y)\n",
        "n = len(X)\n",
        "theta = [1.0]*(n+1) # Random initialization of weights of features, theta[0] denotes weight of bias feature\n",
        "theta"
      ],
      "execution_count": 3,
      "outputs": [
        {
          "output_type": "execute_result",
          "data": {
            "text/plain": [
              "[1.0, 1.0]"
            ]
          },
          "metadata": {
            "tags": []
          },
          "execution_count": 3
        }
      ]
    },
    {
      "cell_type": "code",
      "metadata": {
        "id": "KpDbXvLgBWWy",
        "outputId": "c0deef64-547a-4b8b-928d-3eecc33bada7",
        "colab": {
          "base_uri": "https://localhost:8080/",
          "height": 34
        }
      },
      "source": [
        "len(X[0])"
      ],
      "execution_count": 4,
      "outputs": [
        {
          "output_type": "execute_result",
          "data": {
            "text/plain": [
              "12"
            ]
          },
          "metadata": {
            "tags": []
          },
          "execution_count": 4
        }
      ]
    },
    {
      "cell_type": "code",
      "metadata": {
        "id": "uzkri4pVBWZ5",
        "outputId": "ef1dc213-ca42-4387-91c6-719f289f0b6e",
        "colab": {
          "base_uri": "https://localhost:8080/",
          "height": 265
        }
      },
      "source": [
        "#Gradient Descent to optimize weights to fit the given data linearly\n",
        "\n",
        "for i in range(0, iterations):\n",
        "  h = [theta[0]] * m\n",
        "  for j in range (0,n):\n",
        "    h += X[j]*theta[j+1]\n",
        "  theta[0] -= alpha*np.mean(h-Y)\n",
        "  for j in range (0,n):\n",
        "    theta[j+1] -= alpha*np.mean((h-Y)*X[j])\n",
        "#  print(theta)\n",
        "\n",
        "  plt.plot(X[0],h) #Keep the index 'i' of X[i] to see the graph of liner hypothesis wrt ith feature values\n",
        "\n",
        "for i in range(0,n):\n",
        "  plt.scatter(X[i],Y)"
      ],
      "execution_count": 9,
      "outputs": [
        {
          "output_type": "display_data",
          "data": {
            "image/png": "[encoded data removed]",
            "text/plain": [
              "<Figure size 432x288 with 1 Axes>"
            ]
          },
          "metadata": {
            "tags": [],
            "needs_background": "light"
          }
        }
      ]
    },
    {
      "cell_type": "code",
      "metadata": {
        "id": "R-aXdj3WBWc1",
        "outputId": "f34efe46-b162-44fb-b7ed-be869e910c20",
        "colab": {
          "base_uri": "https://localhost:8080/",
          "height": 50
        }
      },
      "source": [
        "# Note - Feature 0 weight denotes the bias feature's weight\n",
        "for i in range (0,n+1):\n",
        "  print(\"Feature \",i,\" Weight = \",theta[i])"
      ],
      "execution_count": 10,
      "outputs": [
        {
          "output_type": "stream",
          "text": [
            "Feature  0  Weight =  0.4091963895302868\n",
            "Feature  1  Weight =  0.49880027155962653\n"
          ],
          "name": "stdout"
        }
      ]
    }
  ]
}